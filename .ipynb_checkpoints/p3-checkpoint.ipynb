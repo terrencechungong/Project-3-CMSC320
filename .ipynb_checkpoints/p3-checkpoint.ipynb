{
 "cells": [
  {
   "cell_type": "markdown",
   "metadata": {},
   "source": [
    "# Terrence's Contribution: E1 - Question 5\n"
   ]
  },
  {
   "cell_type": "markdown",
   "metadata": {},
   "source": [
    "**Exercise 1**: *Make a scatter plot of life expectancy across time.*"
   ]
  },
  {
   "cell_type": "code",
   "execution_count": 1,
   "metadata": {},
   "outputs": [
    {
     "name": "stderr",
     "output_type": "stream",
     "text": [
      "C:\\Users\\Terrence changing\\AppData\\Local\\Temp\\ipykernel_16004\\2487861298.py:1: DeprecationWarning: \n",
      "Pyarrow will become a required dependency of pandas in the next major release of pandas (pandas 3.0),\n",
      "(to allow more performant data types, such as the Arrow string type, and better interoperability with other libraries)\n",
      "but was not found to be installed on your system.\n",
      "If this would cause problems for you,\n",
      "please provide us feedback at https://github.com/pandas-dev/pandas/issues/54466\n",
      "        \n",
      "  import pandas as pd\n"
     ]
    },
    {
     "ename": "ModuleNotFoundError",
     "evalue": "No module named 'seaborn'",
     "output_type": "error",
     "traceback": [
      "\u001b[1;31m---------------------------------------------------------------------------\u001b[0m",
      "\u001b[1;31mModuleNotFoundError\u001b[0m                       Traceback (most recent call last)",
      "Cell \u001b[1;32mIn[1], line 3\u001b[0m\n\u001b[0;32m      1\u001b[0m \u001b[38;5;28;01mimport\u001b[39;00m \u001b[38;5;21;01mpandas\u001b[39;00m \u001b[38;5;28;01mas\u001b[39;00m \u001b[38;5;21;01mpd\u001b[39;00m\n\u001b[0;32m      2\u001b[0m \u001b[38;5;28;01mimport\u001b[39;00m \u001b[38;5;21;01mmatplotlib\u001b[39;00m\u001b[38;5;21;01m.\u001b[39;00m\u001b[38;5;21;01mpyplot\u001b[39;00m \u001b[38;5;28;01mas\u001b[39;00m \u001b[38;5;21;01mplt\u001b[39;00m\n\u001b[1;32m----> 3\u001b[0m \u001b[38;5;28;01mimport\u001b[39;00m \u001b[38;5;21;01mseaborn\u001b[39;00m \u001b[38;5;28;01mas\u001b[39;00m \u001b[38;5;21;01msns\u001b[39;00m\n\u001b[0;32m      4\u001b[0m \u001b[38;5;28;01mfrom\u001b[39;00m \u001b[38;5;21;01msklearn\u001b[39;00m\u001b[38;5;21;01m.\u001b[39;00m\u001b[38;5;21;01mlinear_model\u001b[39;00m \u001b[38;5;28;01mimport\u001b[39;00m LinearRegression\n\u001b[0;32m      5\u001b[0m \u001b[38;5;28;01mimport\u001b[39;00m \u001b[38;5;21;01mstatsmodels\u001b[39;00m\u001b[38;5;21;01m.\u001b[39;00m\u001b[38;5;21;01mformula\u001b[39;00m\u001b[38;5;21;01m.\u001b[39;00m\u001b[38;5;21;01mapi\u001b[39;00m \u001b[38;5;28;01mas\u001b[39;00m \u001b[38;5;21;01msmf\u001b[39;00m\n",
      "\u001b[1;31mModuleNotFoundError\u001b[0m: No module named 'seaborn'"
     ]
    }
   ],
   "source": [
    "import pandas as pd\n",
    "import matplotlib.pyplot as plt\n",
    "import seaborn as sns\n",
    "from sklearn.linear_model import LinearRegression\n",
    "import statsmodels.formula.api as smf\n",
    "\n",
    "file_path = 'data.tsv'\n",
    "\n",
    "# Read the TSV file into a pandas DataFrame\n",
    "df = pd.read_csv(file_path, delimiter='\\t')\n",
    "print(df.head())\n",
    "\n",
    "# Exercise 1\n",
    "x = df['year']\n",
    "y = df['lifeExp']\n",
    "\n",
    "plt.scatter(x, y)\n",
    "plt.title('Life expectancy over the years')\n",
    "plt.xlabel('Year')\n",
    "plt.ylabel('Life Expectancy')\n",
    "plt.show()"
   ]
  },
  {
   "cell_type": "markdown",
   "metadata": {},
   "source": [
    "**Question 1**: *Is there a general trend (e.g., increasing or decreasing) for life expectancy across time? Is this trend linear?\n",
    "\n",
    "There is a general trend where life expectancy is increasing over time linearly"
   ]
  },
  {
   "cell_type": "markdown",
   "metadata": {},
   "source": [
    "**Question 2**: How would you describe the distribution of life expectancy across countries for individual years? Is it skewed, or not? Unimodal or not? Symmetric around it’s center?\n",
    "\n",
    "I would expect the distribution to be skewed in earlier years where some countries may have had relatively low life expectancies. I would expect the skewness to decrease over time. \n",
    "The distribution would be unimodal since the majority of countries may have life expectancy values that are close to the average life expectancy for a particular year in most cases.\n",
    "The distribution would not be symmetric around it’s center for the same reasons that we may expect skewness in the data.\n"
   ]
  },
  {
   "cell_type": "markdown",
   "metadata": {},
   "source": [
    "**Question 3**: Suppose I fit a linear regression model of life expectancy vs. year (treating it as a continuous variable), and test for a relationship between year and life expectancy, will you reject the null hypothesis of no relationship?\n",
    "\n",
    "I would reject the null hypothesis of there being no relationship since there seems to be a linear relationship between life expectancy and year."
   ]
  },
  {
   "cell_type": "markdown",
   "metadata": {},
   "source": [
    "**Question 4**: What would a violin plot of residuals (errors) from the linear model in Question 3 vs. year look like? (Again, don’t do the analysis yet, answer this intuitively). You would answer this question in the context of the variables in Question 3.\n",
    "\n",
    "Since life expectancy seems to increase over time, a regression line would capture this relationship. On the violin plot of residuals, we would expect the residuals to be centered around 0 for most years, with more positive residuals appearing in the later years."
   ]
  },
  {
   "cell_type": "markdown",
   "metadata": {},
   "source": [
    "**Question 5**: According to the assumptions of the linear regression model, what should that violin plot look like? You would answer this question as a general property of the residuals of the linear regression. We are looking to see if the Question 3 model fits the general assumptions.\n",
    "\n",
    "The violin plot should show a consistent trend where the average life expectancy is increasing over time. As pointed out in the answer to question 2, we expect some skewness in the data in earlier years. Therefore, we may see more life expectancies clustered around lower values than others before these disparities diminish in later years, resulting in a more uniform distribution."
   ]
  },
  {
   "cell_type": "markdown",
   "metadata": {},
   "source": [
    "# Justin's Contribution: E2 to E6\n"
   ]
  },
  {
   "cell_type": "markdown",
   "metadata": {},
   "source": [
    "**Exercise 2**: Fit a linear regression model using, e.g., the `LinearRegression` function from Scikit-Learn or the closed-form solution we derived in class, for life expectancy vs. year (as a continuous variable). "
   ]
  },
  {
   "cell_type": "code",
   "execution_count": null,
   "metadata": {},
   "outputs": [],
   "source": [
    "# Group by continent and calculate the mean of life expectancy\n",
    "grouped_df = df.groupby(['continent', 'year'])['lifeExp'].mean().reset_index()\n",
    "\n",
    "# Create scatter plot\n",
    "plt.figure(figsize=(10, 6))\n",
    "plt.scatter(grouped_df['year'], grouped_df['lifeExp'])\n",
    "\n",
    "# Fit a linear regression model\n",
    "model = LinearRegression()\n",
    "model.fit(grouped_df[['year']], grouped_df['lifeExp'])\n",
    "\n",
    "# Plot the regression line\n",
    "plt.plot(grouped_df['year'], model.predict(grouped_df[['year']]), color='red', label='Regression Line')\n",
    "\n",
    "# Add labels for each point\n",
    "for i in range(len(grouped_df)):\n",
    "    plt.annotate(grouped_df['continent'].iloc[i], (grouped_df['year'].iloc[i], grouped_df['lifeExp'].iloc[i]), textcoords=\"offset points\", xytext=(0,10), ha='center')\n",
    "\n",
    "plt.title('Life Expectancy Over the Years Around the World')\n",
    "plt.xlabel('Year')\n",
    "plt.ylabel('Life Expectancy')\n",
    "plt.legend()\n",
    "plt.show()\n",
    "\n",
    "# Display the slope and intercept\n",
    "print(f'Slope (Year): {model.coef_[0]}')\n",
    "print(f'Intercept: {model.intercept_}')\n",
    "\n",
    "# To find the p-value and other statistics \n",
    "model = smf.ols(formula=\"lifeExp ~ year\", data=grouped_df).fit()\n",
    "\n",
    "# Get the summary of the model\n",
    "summary = model.summary()\n",
    "\n",
    "# Print the summary to see the statistics\n",
    "print(summary)"
   ]
  },
  {
   "cell_type": "markdown",
   "metadata": {},
   "source": [
    "**Question 6**: On average, by how much does life expectancy increase every year around the world? To find the p-value and other statistics, you may use statsmodels.formula.api library. In that library there is a function\n",
    "\n",
    "On average, life expectancy increases by .308501 per year."
   ]
  },
  {
   "cell_type": "markdown",
   "metadata": {},
   "source": [
    "**Question 7**: Do you reject the null hypothesis of no relationship between year and life expectancy? Why?"
   ]
  },
  {
   "cell_type": "markdown",
   "metadata": {},
   "source": [
    "The p-value associated with the coefficient for the 'year' variable is less than 0.05. This suggests that there is a statistically significant relationship between the year and life expectancy. In this case, we would reject the null hypothesis of no relationship between year and life expectancy, and conclude that there is evidence to support a linear relationship between the two variables."
   ]
  },
  {
   "cell_type": "markdown",
   "metadata": {},
   "source": [
    "**Exercise 3**: Make a violin plot of residuals vs. year for the linear model from Exercise 2."
   ]
  },
  {
   "cell_type": "code",
   "execution_count": null,
   "metadata": {},
   "outputs": [],
   "source": [
    "# Calculate residuals\n",
    "residuals = grouped_df['lifeExp'] - model.predict(grouped_df[['year']])\n",
    "\n",
    "# Add residuals to grouped_df\n",
    "grouped_df['residuals'] = residuals\n",
    "\n",
    "# Create a violin plot\n",
    "plt.figure(figsize=(10, 6))\n",
    "sns.violinplot(x='year', y='residuals', data=grouped_df)\n",
    "plt.title('Residuals vs. Year')\n",
    "plt.xlabel('Year')\n",
    "plt.ylabel('Residuals')\n",
    "plt.show()"
   ]
  },
  {
   "cell_type": "markdown",
   "metadata": {},
   "source": [
    "**Question 8**:  Does the plot of Exercise 3 match your expectations (as you answered Question 4)?\n",
    "\n",
    "IDK WHAT GROUP MATE SAID FOR QUESTION 4"
   ]
  },
  {
   "cell_type": "markdown",
   "metadata": {},
   "source": [
    "**Exercise 4**:  Make a boxplot (or violin plot) of model residuals vs. continent."
   ]
  },
  {
   "cell_type": "code",
   "execution_count": null,
   "metadata": {},
   "outputs": [],
   "source": [
    "# Create a boxplot\n",
    "plt.figure(figsize=(10, 6))\n",
    "sns.boxplot(x='continent', y='residuals', data=grouped_df)\n",
    "plt.title('Residuals vs. Continent (Boxplot)')\n",
    "plt.xlabel('Continent')\n",
    "plt.ylabel('Residuals')\n",
    "plt.show()"
   ]
  },
  {
   "cell_type": "markdown",
   "metadata": {},
   "source": [
    "**Question 9**:  Is there a dependence between model residual and continent? If so, what would that suggest when performing a regression analysis of life expectancy across time?\n",
    "\n",
    "There is a strong dependence between the model residuals (the differences b/w the observed and predicted values) and 'continent.' This suggests that the linear regression model may not adequately capture the relationship between lifeExp and year for different continents."
   ]
  },
  {
   "cell_type": "markdown",
   "metadata": {},
   "source": [
    "**Exercise 5**:  As in the Moneyball project, make a scatter plot of life expectancy vs. year, grouped by continent, and add a regression line."
   ]
  },
  {
   "cell_type": "code",
   "execution_count": null,
   "metadata": {},
   "outputs": [],
   "source": [
    "# Create a scatter plot with regression lines\n",
    "sns.lmplot(x='year', y='lifeExp', data=data, hue='continent', height=6, aspect=1.5, ci=None)\n",
    "plt.title('Life Expectancy vs. Year (Grouped by Continent)')\n",
    "plt.xlabel('Year')\n",
    "plt.ylabel('Life Expectancy')\n",
    "plt.show()"
   ]
  },
  {
   "cell_type": "markdown",
   "metadata": {},
   "source": [
    "**Question 10**:  Based on this plot, should your regression model include an interaction term for continent and year? Why?\n",
    "\n",
    "Yes, because each continent experienced a positive correlation between lifeExp and Year. It is possible that continent has a statistically significant effect on the relationship. "
   ]
  },
  {
   "cell_type": "markdown",
   "metadata": {},
   "source": [
    "**Exercise 6**:  Fit a linear regression model for life expectancy including a term for an interaction between continent and year. You may import statsmodel.formula.api to run ordinary least squares for this. "
   ]
  },
  {
   "cell_type": "code",
   "execution_count": null,
   "metadata": {},
   "outputs": [],
   "source": [
    "# Fit the linear regression model with interaction term\n",
    "model = smf.ols(formula=\"lifeExp ~ year + continent + year:continent\", data=data).fit()\n",
    "\n",
    "# Get the summary of the model\n",
    "summary = model.summary()\n",
    "\n",
    "# Print the summary to see the statistics\n",
    "print(summary)"
   ]
  }
 ],
 "metadata": {
  "kernelspec": {
   "display_name": "Python 3",
   "language": "python",
   "name": "python3"
  },
  "language_info": {
   "codemirror_mode": {
    "name": "ipython",
    "version": 3
   },
   "file_extension": ".py",
   "mimetype": "text/x-python",
   "name": "python",
   "nbconvert_exporter": "python",
   "pygments_lexer": "ipython3",
   "version": "3.12.2"
  }
 },
 "nbformat": 4,
 "nbformat_minor": 2
}
