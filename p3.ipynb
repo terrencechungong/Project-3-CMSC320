{
 "cells": [
  {
   "cell_type": "markdown",
   "metadata": {},
   "source": [
    "**Start of Exercise 1 - Exercise 2 (In progress)**\n"
   ]
  },
  {
   "cell_type": "code",
   "execution_count": null,
   "metadata": {},
   "outputs": [],
   "source": [
    "import pandas as pd\n",
    "import matplotlib.pyplot as plt\n",
    "import seaborn as sns\n",
    "from sklearn.linear_model import LinearRegression\n",
    "from statsmodels.regression.linear_model import OLS\n",
    "\n",
    "file_path = 'data.tsv'\n",
    "\n",
    "# Read the TSV file into a pandas DataFrame\n",
    "df = pd.read_csv(file_path, delimiter='\\t')\n",
    "print(df.head())\n",
    "\n",
    "# Exercise 1\n",
    "x = df['year']\n",
    "y = df['lifeExp']\n",
    "\n",
    "plt.scatter(x, y)\n",
    "plt.title('Life expectancy over the years')\n",
    "plt.xlabel('Year')\n",
    "plt.ylabel('Life Expectancy')\n",
    "plt.show()\n",
    "\n",
    "# Question 2\n",
    "plt.figure(figsize=(10, 6))  # Adjust the figure size if needed\n",
    "\n",
    "# Create the violin plot\n",
    "sns.violinplot(x='year', y='lifeExp', data=df)\n",
    "\n",
    "plt.title(\"Life expectancy over time\")\n",
    "plt.xlabel(\"Year\")\n",
    "plt.ylabel(\"Life Expectancy\")\n",
    "\n",
    "plt.show()\n",
    "\n",
    "\n",
    "\n",
    "\n",
    "\n",
    "# Exercise 2\n",
    "X = df[['year']]  # Input features (years)\n",
    "y = df['lifeExp'] # Target variable (life expectancy)\n",
    "# Create a LinearRegression model\n",
    "model = LinearRegression()\n",
    "# Fit the model to the data\n",
    "model.fit(X, y)\n",
    "# Make predictions\n",
    "predictions = model.predict(X)\n",
    "print(\"Coefficients:\", model.coef_)\n",
    "print(\"Intercept:\", model.intercept_)\n",
    "# Plot the scatter plot\n",
    "plt.figure(figsize=(10, 6))\n",
    "plt.scatter(X, y, color='blue', label='Actual data')\n",
    "\n",
    "# Plot the linear regression line\n",
    "plt.plot(X, predictions, color='red', linewidth=2, label='Linear regression line')\n",
    "\n",
    "plt.title(\"Life Expectancy Over Time\")\n",
    "plt.xlabel(\"Year\")\n",
    "plt.ylabel(\"Life Expectancy\")\n",
    "plt.legend()\n",
    "plt.grid(True)\n",
    "plt.show()\n",
    "\n",
    "\n",
    "\n",
    "\n",
    "\n",
    "x = df['year']\n",
    "y = df['lifeExp'] - ((df['lifeExp'] * model.coef_) + model.intercept_)\n",
    "# Question 2\n",
    "plt.figure(figsize=(10, 6))  # Adjust the figure size if needed\n",
    "\n",
    "# Create the violin plot\n",
    "sns.violinplot(x=x, y=y)\n",
    "\n",
    "plt.title(\"Life expectancy over time\")\n",
    "plt.xlabel(\"Year\")\n",
    "plt.ylabel(\"Life Expectancy\")\n",
    "\n",
    "plt.show()\n",
    "\n",
    "\n",
    "\n",
    "\n",
    "# Group by continent and calculate the mean of life expectancy\n",
    "grouped_df = df.groupby(['continent', 'year'])['lifeExp'].mean().reset_index()\n",
    "\n",
    "# Create scatter plot\n",
    "plt.figure(figsize=(10, 6))\n",
    "plt.scatter(grouped_df['year'], grouped_df['lifeExp'])\n",
    "\n",
    "# Fit a linear regression model\n",
    "model = LinearRegression()\n",
    "model.fit(grouped_df[['year']], grouped_df['lifeExp'])\n",
    "\n",
    "# Plot the regression line\n",
    "plt.plot(grouped_df['year'], model.predict(grouped_df[['year']]), color='red', label='Regression Line')\n",
    "\n",
    "# Add labels for each point\n",
    "for i in range(len(grouped_df)):\n",
    "    plt.annotate(grouped_df['continent'][i], (grouped_df['year'].iloc[i], grouped_df['lifeExp'].iloc[i]), textcoords=\"offset points\", xytext=(0,10), ha='center')\n",
    "\n",
    "plt.title('Life Expectancy Over the Years')\n",
    "plt.xlabel('Year')\n",
    "plt.ylabel('Life Expectancy')\n",
    "plt.legend()\n",
    "plt.show()"
   ]
  },
  {
   "cell_type": "markdown",
   "metadata": {},
   "source": [
    "**End of Exercise 1 - Exercise 2 (In progress)**\n"
   ]
  },
  {
   "cell_type": "markdown",
   "metadata": {},
   "source": [
    "# Justin's Contribution: Q6 to E6\n"
   ]
  },
  {
   "cell_type": "markdown",
   "metadata": {},
   "source": [
    "**Exercise 2**: Fit a linear regression model using, e.g., the `LinearRegression` function from Scikit-Learn or the closed-form solution we derived in class, for life expectancy vs. year (as a continuous variable). "
   ]
  },
  {
   "cell_type": "code",
   "execution_count": null,
   "metadata": {},
   "outputs": [],
   "source": [
    "# Group by continent and calculate the mean of life expectancy\n",
    "grouped_df = df.groupby(['continent', 'year'])['lifeExp'].mean().reset_index()\n",
    "\n",
    "# Create scatter plot\n",
    "plt.figure(figsize=(10, 6))\n",
    "plt.scatter(grouped_df['year'], grouped_df['lifeExp'])\n",
    "\n",
    "# Fit a linear regression model\n",
    "model = LinearRegression()\n",
    "model.fit(grouped_df[['year']], grouped_df['lifeExp'])\n",
    "\n",
    "# Plot the regression line\n",
    "plt.plot(grouped_df['year'], model.predict(grouped_df[['year']]), color='red', label='Regression Line')\n",
    "\n",
    "# Add labels for each point\n",
    "for i in range(len(grouped_df)):\n",
    "    plt.annotate(grouped_df['continent'].iloc[i], (grouped_df['year'].iloc[i], grouped_df['lifeExp'].iloc[i]), textcoords=\"offset points\", xytext=(0,10), ha='center')\n",
    "\n",
    "plt.title('Life Expectancy Over the Years Around the World')\n",
    "plt.xlabel('Year')\n",
    "plt.ylabel('Life Expectancy')\n",
    "plt.legend()\n",
    "plt.show()\n",
    "\n",
    "# Display the slope and intercept\n",
    "print(f'Slope (Year): {model.coef_[0]}')\n",
    "print(f'Intercept: {model.intercept_}')\n",
    "\n",
    "# To find the p-value and other statistics \n",
    "model = smf.ols(formula=\"lifeExp ~ year\", data=grouped_df).fit()\n",
    "\n",
    "# Get the summary of the model\n",
    "summary = model.summary()\n",
    "\n",
    "# Print the summary to see the statistics\n",
    "print(summary)"
   ]
  },
  {
   "cell_type": "markdown",
   "metadata": {},
   "source": [
    "**Question 6**: On average, by how much does life expectancy increase every year around the world? To find the p-value and other statistics, you may use statsmodels.formula.api library. In that library there is a function\n",
    "\n",
    "On average, life expectancy increases by .308501 per year."
   ]
  },
  {
   "cell_type": "markdown",
   "metadata": {},
   "source": [
    "**Question 7**: Do you reject the null hypothesis of no relationship between year and life expectancy? Why?"
   ]
  },
  {
   "cell_type": "markdown",
   "metadata": {},
   "source": [
    "The p-value associated with the coefficient for the 'year' variable is less than 0.05. This suggests that there is a statistically significant relationship between the year and life expectancy. In this case, we would reject the null hypothesis of no relationship between year and life expectancy, and conclude that there is evidence to support a linear relationship between the two variables."
   ]
  },
  {
   "cell_type": "markdown",
   "metadata": {},
   "source": [
    "**Exercise 3**: Make a violin plot of residuals vs. year for the linear model from Exercise 2."
   ]
  },
  {
   "cell_type": "code",
   "execution_count": null,
   "metadata": {},
   "outputs": [],
   "source": [
    "# Calculate residuals\n",
    "residuals = grouped_df['lifeExp'] - model.predict(grouped_df[['year']])\n",
    "\n",
    "# Add residuals to grouped_df\n",
    "grouped_df['residuals'] = residuals\n",
    "\n",
    "# Create a violin plot\n",
    "plt.figure(figsize=(10, 6))\n",
    "sns.violinplot(x='year', y='residuals', data=grouped_df)\n",
    "plt.title('Residuals vs. Year')\n",
    "plt.xlabel('Year')\n",
    "plt.ylabel('Residuals')\n",
    "plt.show()"
   ]
  },
  {
   "cell_type": "markdown",
   "metadata": {},
   "source": [
    "**Question 8**:  Does the plot of Exercise 3 match your expectations (as you answered Question 4)?\n",
    "\n",
    "IDK WHAT GROUP MATE SAID FOR QUESTION 4"
   ]
  },
  {
   "cell_type": "markdown",
   "metadata": {},
   "source": [
    "**Exercise 4**:  Make a boxplot (or violin plot) of model residuals vs. continent."
   ]
  },
  {
   "cell_type": "code",
   "execution_count": null,
   "metadata": {},
   "outputs": [],
   "source": [
    "# Create a boxplot\n",
    "plt.figure(figsize=(10, 6))\n",
    "sns.boxplot(x='continent', y='residuals', data=grouped_df)\n",
    "plt.title('Residuals vs. Continent (Boxplot)')\n",
    "plt.xlabel('Continent')\n",
    "plt.ylabel('Residuals')\n",
    "plt.show()"
   ]
  },
  {
   "cell_type": "markdown",
   "metadata": {},
   "source": [
    "**Question 9**:  Is there a dependence between model residual and continent? If so, what would that suggest when performing a regression analysis of life expectancy across time?\n",
    "\n",
    "There is a strong dependence between the model residuals (the differences b/w the observed and predicted values) and 'continent.' This suggests that the linear regression model may not adequately capture the relationship between lifeExp and year for different continents."
   ]
  },
  {
   "cell_type": "markdown",
   "metadata": {},
   "source": [
    "**Exercise 5**:  As in the Moneyball project, make a scatter plot of life expectancy vs. year, grouped by continent, and add a regression line."
   ]
  },
  {
   "cell_type": "code",
   "execution_count": null,
   "metadata": {},
   "outputs": [],
   "source": [
    "# Create a scatter plot with regression lines\n",
    "sns.lmplot(x='year', y='lifeExp', data=data, hue='continent', height=6, aspect=1.5, ci=None)\n",
    "plt.title('Life Expectancy vs. Year (Grouped by Continent)')\n",
    "plt.xlabel('Year')\n",
    "plt.ylabel('Life Expectancy')\n",
    "plt.show()"
   ]
  },
  {
   "cell_type": "markdown",
   "metadata": {},
   "source": [
    "**Question 10**:  Based on this plot, should your regression model include an interaction term for continent and year? Why?\n",
    "\n",
    "Yes, because each continent experienced a positive correlation between lifeExp and Year. It is possible that continent has a statistically significant effect on the relationship. "
   ]
  },
  {
   "cell_type": "markdown",
   "metadata": {},
   "source": [
    "**Exercise 6**:  Fit a linear regression model for life expectancy including a term for an interaction between continent and year. You may import statsmodel.formula.api to run ordinary least squares for this. "
   ]
  },
  {
   "cell_type": "code",
   "execution_count": null,
   "metadata": {},
   "outputs": [],
   "source": [
    "# Fit the linear regression model with interaction term\n",
    "model = smf.ols(formula=\"lifeExp ~ year + continent + year:continent\", data=data).fit()\n",
    "\n",
    "# Get the summary of the model\n",
    "summary = model.summary()\n",
    "\n",
    "# Print the summary to see the statistics\n",
    "print(summary)"
   ]
  }
 ],
 "metadata": {
  "language_info": {
   "name": "python"
  }
 },
 "nbformat": 4,
 "nbformat_minor": 2
}
